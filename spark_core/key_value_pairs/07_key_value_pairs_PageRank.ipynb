{
 "cells": [
  {
   "cell_type": "code",
   "execution_count": 38,
   "metadata": {
    "collapsed": true
   },
   "outputs": [],
   "source": [
    "\"\"\"\n",
    "    Алгоритм PageRank (PR) - это итеративный алгоритм, используемый поисковой системой Google для ранжирования веб-страниц в результатах поисковой системы.\n",
    "    Источники: 1) Изучаем Spark. Молниеносный анализ данных, стр. 91-93\n",
    "               2) https://russianblogs.com/article/9289124253/\n",
    "\"\"\"\n",
    "from pyspark.sql import SparkSession\n",
    "sc=SparkSession.builder.getOrCreate().sparkContext"
   ]
  },
  {
   "cell_type": "code",
   "execution_count": 39,
   "outputs": [],
   "source": [
    "# Алгоритм оперирует двумя наборами данных: один - с элементами типа (pageID, linkList), где linkList -  страницы, на которые ссылается страница pageID\n",
    "links=sc.parallelize([('A', ('B', 'C', 'D')),\n",
    "                      ('B', ('A','C')),\n",
    "                      ('C', ('A',)),\n",
    "                      ('D', ('B','C'))])"
   ],
   "metadata": {
    "collapsed": false,
    "pycharm": {
     "name": "#%%\n"
    }
   }
  },
  {
   "cell_type": "code",
   "execution_count": 40,
   "outputs": [
    {
     "data": {
      "text/plain": "[('A', ('B', 'C', 'D')), ('B', ('A', 'C')), ('C', ('A',)), ('D', ('B', 'C'))]"
     },
     "execution_count": 40,
     "metadata": {},
     "output_type": "execute_result"
    }
   ],
   "source": [
    "links.collect()"
   ],
   "metadata": {
    "collapsed": false,
    "pycharm": {
     "name": "#%%\n"
    }
   }
  },
  {
   "cell_type": "code",
   "execution_count": 41,
   "outputs": [],
   "source": [
    "# второй - с элементами типа (pageID, rank), содержащими текущий ранг соответствующих страниц\n",
    "c=links.count()\n",
    "ranks=links.mapValues(lambda r: float(1/c))"
   ],
   "metadata": {
    "collapsed": false,
    "pycharm": {
     "name": "#%%\n"
    }
   }
  },
  {
   "cell_type": "code",
   "execution_count": 27,
   "outputs": [
    {
     "data": {
      "text/plain": "[('A', 0.25), ('B', 0.25), ('C', 0.25), ('D', 0.25)]"
     },
     "execution_count": 27,
     "metadata": {},
     "output_type": "execute_result"
    }
   ],
   "source": [
    "ranks.collect()"
   ],
   "metadata": {
    "collapsed": false,
    "pycharm": {
     "name": "#%%\n"
    }
   }
  },
  {
   "cell_type": "code",
   "execution_count": 42,
   "outputs": [],
   "source": [
    "contributions=links.join(ranks).persist()"
   ],
   "metadata": {
    "collapsed": false,
    "pycharm": {
     "name": "#%%\n"
    }
   }
  },
  {
   "cell_type": "code",
   "execution_count": 43,
   "outputs": [
    {
     "data": {
      "text/plain": "[('A', (('B', 'C', 'D'), 0.25)),\n ('B', (('A', 'C'), 0.25)),\n ('C', (('A',), 0.25)),\n ('D', (('B', 'C'), 0.25))]"
     },
     "execution_count": 43,
     "metadata": {},
     "output_type": "execute_result"
    }
   ],
   "source": [
    "sorted(contributions.collect())"
   ],
   "metadata": {
    "collapsed": false,
    "pycharm": {
     "name": "#%%\n"
    }
   }
  },
  {
   "cell_type": "code",
   "execution_count": 35,
   "outputs": [],
   "source": [
    "# весь алгоритм\n",
    "def func(x):\n",
    "    pageID, (links_, rank) = x\n",
    "    l = [(k, rank) for k in links_]\n",
    "    return l\n",
    "for _ in range(10):\n",
    "    ranks=links.join(ranks).flatMap(lambda x: func(x)).reduceByKey(lambda x,y: x+y).mapValues(lambda v: 0.15+0.85*v)"
   ],
   "metadata": {
    "collapsed": false,
    "pycharm": {
     "name": "#%%\n"
    }
   }
  },
  {
   "cell_type": "code",
   "execution_count": 36,
   "outputs": [
    {
     "data": {
      "text/plain": "[('A', 143.39906214410976),\n ('B', 111.34080962752634),\n ('C', 168.3575530484062),\n ('D', 73.63726137581848)]"
     },
     "execution_count": 36,
     "metadata": {},
     "output_type": "execute_result"
    }
   ],
   "source": [
    "sorted(ranks.collect())"
   ],
   "metadata": {
    "collapsed": false,
    "pycharm": {
     "name": "#%%\n"
    }
   }
  },
  {
   "cell_type": "code",
   "execution_count": 51,
   "outputs": [],
   "source": [
    "links=sc.parallelize([('A', ('B', 'C', 'D')),\n",
    "                      ('B', ('A','C')),\n",
    "                      ('C', ('A',)),\n",
    "                      ('D', ('B','C'))])\n",
    "c=links.count()\n",
    "ranks=links.mapValues(lambda r: float(1/c))"
   ],
   "metadata": {
    "collapsed": false,
    "pycharm": {
     "name": "#%%\n"
    }
   }
  },
  {
   "cell_type": "code",
   "execution_count": 52,
   "outputs": [
    {
     "data": {
      "text/plain": "[('A', (('B', 'C', 'D'), 0.25)),\n ('B', (('A', 'C'), 0.25)),\n ('C', (('A',), 0.25)),\n ('D', (('B', 'C'), 0.25))]"
     },
     "execution_count": 52,
     "metadata": {},
     "output_type": "execute_result"
    }
   ],
   "source": [
    "for _ in range(1):\n",
    "    ranks=links.join(ranks)\n",
    "ranks.collect()"
   ],
   "metadata": {
    "collapsed": false,
    "pycharm": {
     "name": "#%%\n"
    }
   }
  },
  {
   "cell_type": "code",
   "execution_count": 53,
   "outputs": [
    {
     "data": {
      "text/plain": "[('B', 0.25),\n ('C', 0.25),\n ('D', 0.25),\n ('A', 0.25),\n ('C', 0.25),\n ('A', 0.25),\n ('B', 0.25),\n ('C', 0.25)]"
     },
     "execution_count": 53,
     "metadata": {},
     "output_type": "execute_result"
    }
   ],
   "source": [
    "def func(x):\n",
    "    pageID, (links_, rank) = x\n",
    "    l = [(k, rank) for k in links_]\n",
    "    return l\n",
    "ranks=ranks.flatMap(lambda x: func(x))\n",
    "ranks.collect()"
   ],
   "metadata": {
    "collapsed": false,
    "pycharm": {
     "name": "#%%\n"
    }
   }
  },
  {
   "cell_type": "code",
   "execution_count": 54,
   "outputs": [
    {
     "data": {
      "text/plain": "[('B', 0.5), ('A', 0.5), ('C', 0.75), ('D', 0.25)]"
     },
     "execution_count": 54,
     "metadata": {},
     "output_type": "execute_result"
    }
   ],
   "source": [
    "ranks=ranks.reduceByKey(lambda x,y: x+y)\n",
    "ranks.collect()"
   ],
   "metadata": {
    "collapsed": false,
    "pycharm": {
     "name": "#%%\n"
    }
   }
  },
  {
   "cell_type": "code",
   "execution_count": 55,
   "outputs": [
    {
     "data": {
      "text/plain": "[('B', 0.575), ('A', 0.575), ('C', 0.7875), ('D', 0.3625)]"
     },
     "execution_count": 55,
     "metadata": {},
     "output_type": "execute_result"
    }
   ],
   "source": [
    "ranks=ranks.mapValues(lambda v: 0.15+0.85*v)\n",
    "ranks.collect()"
   ],
   "metadata": {
    "collapsed": false,
    "pycharm": {
     "name": "#%%\n"
    }
   }
  }
 ],
 "metadata": {
  "kernelspec": {
   "display_name": "Python 3",
   "language": "python",
   "name": "python3"
  },
  "language_info": {
   "codemirror_mode": {
    "name": "ipython",
    "version": 2
   },
   "file_extension": ".py",
   "mimetype": "text/x-python",
   "name": "python",
   "nbconvert_exporter": "python",
   "pygments_lexer": "ipython2",
   "version": "2.7.6"
  }
 },
 "nbformat": 4,
 "nbformat_minor": 0
}