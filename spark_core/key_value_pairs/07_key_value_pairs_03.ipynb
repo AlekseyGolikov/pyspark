{
 "cells": [
  {
   "cell_type": "code",
   "execution_count": 1,
   "metadata": {
    "collapsed": true
   },
   "outputs": [],
   "source": [
    "\"\"\"\n",
    "    Функция reduceByKey() запускает несколько параллельных операций свертки (reduce()), по одной для каждого ключа в наборе, где каждая операция объединяет значения с одинаковыми ключами.\n",
    "    reduceByKey() реализована как преобразование\n",
    "\"\"\"\n",
    "from pyspark.sql import SparkSession\n",
    "sc=SparkSession.builder.getOrCreate().sparkContext"
   ]
  },
  {
   "cell_type": "code",
   "execution_count": 12,
   "outputs": [
    {
     "data": {
      "text/plain": "[('b', 4), ('a', 4)]"
     },
     "execution_count": 12,
     "metadata": {},
     "output_type": "execute_result"
    }
   ],
   "source": [
    "# с дефолтным уровнем параллелизма\n",
    "sc.parallelize([('a',3), ('b',4), ('a',1)]).reduceByKey(lambda x,y: x+y).collect()"
   ],
   "metadata": {
    "collapsed": false,
    "pycharm": {
     "name": "#%%\n"
    }
   }
  },
  {
   "cell_type": "code",
   "execution_count": 8,
   "outputs": [],
   "source": [
    "# с настроенным уровнем параллелизма\n",
    "setL = 6\n",
    "s=sc.parallelize([('a',3), ('b',3), ('a',1)]).reduceByKey(lambda x,y: x+y, setL).collect()"
   ],
   "metadata": {
    "collapsed": false,
    "pycharm": {
     "name": "#%%\n"
    }
   }
  },
  {
   "cell_type": "code",
   "execution_count": 3,
   "outputs": [
    {
     "data": {
      "text/plain": "[('a', ([1], [2])), ('b', ([4], []))]"
     },
     "execution_count": 3,
     "metadata": {},
     "output_type": "execute_result"
    }
   ],
   "source": [
    "x=sc.parallelize([('a',1), ('b',4)])\n",
    "y=sc.parallelize([('a',2)])\n",
    "[(x, tuple(map(list,y))) for x,y in sorted(list(x.cogroup(y).collect()))]"
   ],
   "metadata": {
    "collapsed": false,
    "pycharm": {
     "name": "#%%\n"
    }
   }
  },
  {
   "cell_type": "code",
   "execution_count": null,
   "outputs": [],
   "source": [],
   "metadata": {
    "collapsed": false,
    "pycharm": {
     "name": "#%%\n"
    }
   }
  }
 ],
 "metadata": {
  "kernelspec": {
   "display_name": "Python 3",
   "language": "python",
   "name": "python3"
  },
  "language_info": {
   "codemirror_mode": {
    "name": "ipython",
    "version": 2
   },
   "file_extension": ".py",
   "mimetype": "text/x-python",
   "name": "python",
   "nbconvert_exporter": "python",
   "pygments_lexer": "ipython2",
   "version": "2.7.6"
  }
 },
 "nbformat": 4,
 "nbformat_minor": 0
}