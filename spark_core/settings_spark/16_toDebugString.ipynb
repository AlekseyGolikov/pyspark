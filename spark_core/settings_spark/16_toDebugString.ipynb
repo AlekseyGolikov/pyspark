{
 "cells": [
  {
   "cell_type": "code",
   "execution_count": 16,
   "metadata": {
    "collapsed": true
   },
   "outputs": [],
   "source": [
    "from pyspark.sql import SparkSession\n",
    "sc=SparkSession.builder.getOrCreate().sparkContext"
   ]
  },
  {
   "cell_type": "code",
   "execution_count": 20,
   "outputs": [],
   "source": [
    "input=sc.textFile('logs.txt').persist()"
   ],
   "metadata": {
    "collapsed": false,
    "pycharm": {
     "name": "#%%\n"
    }
   }
  },
  {
   "cell_type": "code",
   "execution_count": 21,
   "outputs": [
    {
     "data": {
      "text/plain": "b'(2) logs.txt MapPartitionsRDD[51] at textFile at <unknown>:0 []\\n |  logs.txt HadoopRDD[50] at textFile at <unknown>:0 []'"
     },
     "execution_count": 21,
     "metadata": {},
     "output_type": "execute_result"
    }
   ],
   "source": [
    "# метод toDebugString () применяется для вывода иерархии происхождения наборов RDD в Spark, т.е. что за чем выполнялось\n",
    "input.toDebugString()"
   ],
   "metadata": {
    "collapsed": false,
    "pycharm": {
     "name": "#%%\n"
    }
   }
  },
  {
   "cell_type": "code",
   "execution_count": 29,
   "outputs": [],
   "source": [
    "def func(words):\n",
    "    if len(words)>0:\n",
    "        return words\n",
    "    return ''\n",
    "tokenized=input.map(lambda line: line.split(' ')).filter(func).persist()"
   ],
   "metadata": {
    "collapsed": false,
    "pycharm": {
     "name": "#%%\n"
    }
   }
  },
  {
   "cell_type": "code",
   "execution_count": 30,
   "outputs": [
    {
     "data": {
      "text/plain": "b'(2) PythonRDD[61] at RDD at PythonRDD.scala:53 [Memory Serialized 1x Replicated]\\n |  logs.txt MapPartitionsRDD[51] at textFile at <unknown>:0 [Memory Serialized 1x Replicated]\\n |  logs.txt HadoopRDD[50] at textFile at <unknown>:0 [Memory Serialized 1x Replicated]'"
     },
     "execution_count": 30,
     "metadata": {},
     "output_type": "execute_result"
    }
   ],
   "source": [
    "tokenized.toDebugString()"
   ],
   "metadata": {
    "collapsed": false,
    "pycharm": {
     "name": "#%%\n"
    }
   }
  },
  {
   "cell_type": "code",
   "execution_count": 31,
   "outputs": [
    {
     "data": {
      "text/plain": "[['#', 'input.', 'txt'],\n ['INFO', 'This', 'is', 'а', 'message', 'with', 'content'],\n ['INFO', 'This', 'is', 'some', 'other', 'content'],\n [''],\n ['INFO', 'Неге', 'are', 'more', 'messages'],\n ['WARN', 'This', 'is', 'а', 'warning'],\n [''],\n ['ERROR', 'Something', 'bad', 'happened'],\n ['WARN', 'More', 'details', 'on', 'the', 'bad', 'thing'],\n ['INFO', 'back', 'to', 'normal', 'messages']]"
     },
     "execution_count": 31,
     "metadata": {},
     "output_type": "execute_result"
    }
   ],
   "source": [
    "tokenized.collect()"
   ],
   "metadata": {
    "collapsed": false,
    "pycharm": {
     "name": "#%%\n"
    }
   }
  },
  {
   "cell_type": "code",
   "execution_count": 8,
   "outputs": [],
   "source": [
    "# Данная последовательность команд создает набор RDD counts с числом записей для каждой степени важности\n",
    "count=tokenized.map(lambda words: (words[0], 1)).reduceByKey(lambda a,b: a+b).persist()"
   ],
   "metadata": {
    "collapsed": false,
    "pycharm": {
     "name": "#%%\n"
    }
   }
  },
  {
   "cell_type": "code",
   "execution_count": 15,
   "outputs": [
    {
     "data": {
      "text/plain": "b'(2) PythonRDD[46] at RDD at PythonRDD.scala:53 [Memory Serialized 1x Replicated]\\n |       CachedPartitions: 2; MemorySize: 196.0 B; DiskSize: 0.0 B\\n |  MapPartitionsRDD[45] at mapPartitions at PythonRDD.scala:145 [Memory Serialized 1x Replicated]\\n |  ShuffledRDD[44] at partitionBy at <unknown>:0 [Memory Serialized 1x Replicated]\\n +-(2) PairwiseRDD[43] at reduceByKey at C:\\\\Users\\\\golik\\\\AppData\\\\Local\\\\Temp\\\\ipykernel_14648\\\\4181502713.py:1 [Memory Serialized 1x Replicated]\\n    |  PythonRDD[42] at reduceByKey at C:\\\\Users\\\\golik\\\\AppData\\\\Local\\\\Temp\\\\ipykernel_14648\\\\4181502713.py:1 [Memory Serialized 1x Replicated]\\n    |  PythonRDD[9] at RDD at PythonRDD.scala:53 [Memory Serialized 1x Replicated]\\n    |      CachedPartitions: 2; MemorySize: 460.0 B; DiskSize: 0.0 B\\n    |  logs.txt MapPartitionsRDD[8] at textFile at <unknown>:0 [Memory Serialized 1x Replicated]\\n    |      CachedPartitions: 2; MemorySize: 306.0 B; DiskSize: 0.0 B\\n    |  logs.txt HadoopRDD[7] at textFile at <unknown>:0 [Memory Serialized 1x Replicated]'"
     },
     "execution_count": 15,
     "metadata": {},
     "output_type": "execute_result"
    }
   ],
   "source": [
    "count.toDebugString()"
   ],
   "metadata": {
    "collapsed": false,
    "pycharm": {
     "name": "#%%\n"
    }
   }
  },
  {
   "cell_type": "code",
   "execution_count": 10,
   "outputs": [
    {
     "data": {
      "text/plain": "[('#', 1), ('INFO', 4), ('', 2), ('WARN', 2), ('ERROR', 1)]"
     },
     "execution_count": 10,
     "metadata": {},
     "output_type": "execute_result"
    }
   ],
   "source": [
    "count.collect()"
   ],
   "metadata": {
    "collapsed": false,
    "pycharm": {
     "name": "#%%\n"
    }
   }
  },
  {
   "cell_type": "code",
   "execution_count": null,
   "outputs": [],
   "source": [],
   "metadata": {
    "collapsed": false,
    "pycharm": {
     "name": "#%%\n"
    }
   }
  }
 ],
 "metadata": {
  "kernelspec": {
   "display_name": "Python 3",
   "language": "python",
   "name": "python3"
  },
  "language_info": {
   "codemirror_mode": {
    "name": "ipython",
    "version": 2
   },
   "file_extension": ".py",
   "mimetype": "text/x-python",
   "name": "python",
   "nbconvert_exporter": "python",
   "pygments_lexer": "ipython2",
   "version": "2.7.6"
  }
 },
 "nbformat": 4,
 "nbformat_minor": 0
}