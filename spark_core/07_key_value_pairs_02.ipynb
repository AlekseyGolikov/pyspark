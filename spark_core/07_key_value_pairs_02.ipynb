{
 "cells": [
  {
   "cell_type": "code",
   "execution_count": 1,
   "metadata": {
    "collapsed": true
   },
   "outputs": [],
   "source": [
    "\"\"\"\n",
    "    Пример использования функции combineByKey,\n",
    "    которая выполняет объединение пар ключ-значение в наборе по ключу\n",
    "    стр 75-78\n",
    "\"\"\"\n",
    "from pyspark.sql import SparkSession\n",
    "sc=SparkSession.builder.appName('Test').getOrCreate().sparkContext"
   ]
  },
  {
   "cell_type": "code",
   "execution_count": 32,
   "outputs": [],
   "source": [
    "rdd=sc.parallelize([('a',1),('b',1),('a',2)])"
   ],
   "metadata": {
    "collapsed": false,
    "pycharm": {
     "name": "#%%\n"
    }
   }
  },
  {
   "cell_type": "code",
   "execution_count": 2,
   "outputs": [
    {
     "data": {
      "text/plain": "[('a', [1, 2]), ('b', [1])]"
     },
     "execution_count": 2,
     "metadata": {},
     "output_type": "execute_result"
    }
   ],
   "source": [
    "rdd=sc.parallelize([('a',1),('b',1),('a',2)])\n",
    "crt = lambda a: [a]\n",
    "mrgV = lambda a, b: a.append(b)\n",
    "mrgC = lambda a, b: a+b\n",
    "sorted(rdd.combineByKey(crt, mrgV, mrgC).collect())"
   ],
   "metadata": {
    "collapsed": false,
    "pycharm": {
     "name": "#%%\n"
    }
   }
  },
  {
   "cell_type": "code",
   "execution_count": 50,
   "outputs": [
    {
     "data": {
      "text/plain": "[('a', [1, 2]), ('b', [1])]"
     },
     "execution_count": 50,
     "metadata": {},
     "output_type": "execute_result"
    }
   ],
   "source": [
    "rdd=sc.parallelize([(\"a\", 1), (\"b\", 1), (\"a\", 2)])\n",
    "def crt(a):\n",
    "    return [a]\n",
    "def mrgV(a, b):\n",
    "    a.append(b)\n",
    "    return a\n",
    "def mrgC(a, b):\n",
    "    a.extend(b)\n",
    "    return a\n",
    "sorted(rdd.combineByKey(crt, mrgV, mrgC).collect())"
   ],
   "metadata": {
    "collapsed": false,
    "pycharm": {
     "name": "#%%\n"
    }
   }
  }
 ],
 "metadata": {
  "kernelspec": {
   "display_name": "Python 3",
   "language": "python",
   "name": "python3"
  },
  "language_info": {
   "codemirror_mode": {
    "name": "ipython",
    "version": 2
   },
   "file_extension": ".py",
   "mimetype": "text/x-python",
   "name": "python",
   "nbconvert_exporter": "python",
   "pygments_lexer": "ipython2",
   "version": "2.7.6"
  }
 },
 "nbformat": 4,
 "nbformat_minor": 0
}